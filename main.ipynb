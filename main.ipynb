{
 "cells": [
  {
   "cell_type": "code",
   "execution_count": 1,
   "id": "28ff1a08",
   "metadata": {},
   "outputs": [
    {
     "name": "stderr",
     "output_type": "stream",
     "text": [
      "/home/soroosh/projects/general_env/lib/python3.8/site-packages/pytorch_lightning/metrics/__init__.py:43: LightningDeprecationWarning: `pytorch_lightning.metrics.*` module has been renamed to `torchmetrics.*` and split off to its own package (https://github.com/PyTorchLightning/metrics) since v1.3 and will be removed in v1.5\n",
      "  rank_zero_deprecation(\n",
      "Global seed set to 42\n"
     ]
    },
    {
     "data": {
      "text/plain": [
       "42"
      ]
     },
     "execution_count": 1,
     "metadata": {},
     "output_type": "execute_result"
    }
   ],
   "source": [
    "import numpy as np\n",
    "import torch\n",
    "import os\n",
    "from tqdm.notebook import tqdm\n",
    "\n",
    "from deepnote import MusicRepr, Constants\n",
    "from importlib import reload\n",
    "\n",
    "from pytorch_lightning import Trainer, seed_everything\n",
    "from pytorch_lightning.loggers import TensorBoardLogger\n",
    "from pytorch_lightning.callbacks import ModelCheckpoint, LearningRateMonitor\n",
    "\n",
    "seed_everything(42)"
   ]
  },
  {
   "cell_type": "markdown",
   "id": "512f0b26",
   "metadata": {},
   "source": [
    "## Data"
   ]
  },
  {
   "cell_type": "code",
   "execution_count": 2,
   "id": "329ce139",
   "metadata": {},
   "outputs": [
    {
     "name": "stdout",
     "output_type": "stream",
     "text": [
      "model name: remi-small-linear-pop909-win1024\n"
     ]
    }
   ],
   "source": [
    "const = Constants(unit=4, num_tempo_bins=20, num_velocity_bins=20)\n",
    "\n",
    "data_config = {\n",
    "    'data_dir' : '/home/soroosh/data/MIDI/pop909/train/',\n",
    "    'const' : const,\n",
    "    'instruments' : ['piano'],\n",
    "    'mode' : 'remi',\n",
    "    'max_files' : 2,\n",
    "    'window_len' : 1024,\n",
    "    'n_jobs' : 20\n",
    "}\n",
    "\n",
    "name = 'remi-small-linear-pop909-win1024'\n",
    "print('model name:',name)"
   ]
  },
  {
   "cell_type": "code",
   "execution_count": 3,
   "id": "4b411d6f",
   "metadata": {
    "scrolled": true
   },
   "outputs": [
    {
     "data": {
      "application/vnd.jupyter.widget-view+json": {
       "model_id": "0e232e28683b4df483847a03c205b3c0",
       "version_major": 2,
       "version_minor": 0
      },
      "text/plain": [
       "  0%|          | 0/2 [00:00<?, ?it/s]"
      ]
     },
     "metadata": {},
     "output_type": "display_data"
    },
    {
     "data": {
      "text/plain": [
       "13783"
      ]
     },
     "execution_count": 3,
     "metadata": {},
     "output_type": "execute_result"
    }
   ],
   "source": [
    "import src.data\n",
    "reload(src.data)\n",
    "from src.data import MidiDataset\n",
    "\n",
    "dataset = MidiDataset(**data_config)\n",
    "n = len(dataset)\n",
    "n"
   ]
  },
  {
   "cell_type": "code",
   "execution_count": 4,
   "id": "7c8ba290",
   "metadata": {},
   "outputs": [],
   "source": [
    "from torch.utils.data import DataLoader, random_split\n",
    "\n",
    "t = int(0.1 * n)\n",
    "td, vd = random_split(dataset, [n-t, t])\n",
    "tl = DataLoader(dataset=td, batch_size=16, pin_memory=True, shuffle=True, num_workers=4, collate_fn=dataset.fn)\n",
    "vl = DataLoader(dataset=vd, batch_size=32, pin_memory=True, shuffle=False, num_workers=4, collate_fn=dataset.fn)"
   ]
  },
  {
   "cell_type": "code",
   "execution_count": 5,
   "id": "9275acd0",
   "metadata": {},
   "outputs": [
    {
     "name": "stdout",
     "output_type": "stream",
     "text": [
      "X torch.Size([16, 1023])\n",
      "X_len torch.Size([16])\n",
      "labels torch.Size([16, 1023])\n"
     ]
    }
   ],
   "source": [
    "b = next(iter(tl))\n",
    "for k in b:\n",
    "    print(k, b[k].shape)"
   ]
  },
  {
   "cell_type": "markdown",
   "id": "c4f3944e",
   "metadata": {},
   "source": [
    "## Model"
   ]
  },
  {
   "cell_type": "code",
   "execution_count": 6,
   "id": "7e77e9d3",
   "metadata": {},
   "outputs": [
    {
     "data": {
      "text/plain": [
       "{'lr': 0.0001,\n",
       " 'transformer': GPT2Config {\n",
       "   \"activation_function\": \"gelu_new\",\n",
       "   \"attn_pdrop\": 0.1,\n",
       "   \"bos_token_id\": 50256,\n",
       "   \"embd_pdrop\": 0.1,\n",
       "   \"eos_token_id\": 50256,\n",
       "   \"gradient_checkpointing\": false,\n",
       "   \"initializer_range\": 0.02,\n",
       "   \"layer_norm_epsilon\": 1e-05,\n",
       "   \"model_type\": \"gpt2\",\n",
       "   \"n_ctx\": 1024,\n",
       "   \"n_embd\": 256,\n",
       "   \"n_head\": 8,\n",
       "   \"n_inner\": 512,\n",
       "   \"n_layer\": 4,\n",
       "   \"n_positions\": 1024,\n",
       "   \"resid_pdrop\": 0.1,\n",
       "   \"summary_activation\": null,\n",
       "   \"summary_first_dropout\": 0.1,\n",
       "   \"summary_proj_to_labels\": true,\n",
       "   \"summary_type\": \"cls_index\",\n",
       "   \"summary_use_proj\": true,\n",
       "   \"transformers_version\": \"4.5.1\",\n",
       "   \"use_cache\": true,\n",
       "   \"vocab_size\": 351\n",
       " }}"
      ]
     },
     "execution_count": 6,
     "metadata": {},
     "output_type": "execute_result"
    }
   ],
   "source": [
    "import src.config\n",
    "reload(src.config)\n",
    "from src.config import make_config\n",
    "\n",
    "from transformers import GPT2Config\n",
    "\n",
    "# config = make_config(\n",
    "#     const,\n",
    "#     mode='remi',\n",
    "#     model='transformer',\n",
    "#     d_model=256, \n",
    "#     dropout=0.1, \n",
    "#     lr=2e-4,\n",
    "#     tie_emb=False,\n",
    "#     pos_emb=True, \n",
    "#     n_layer=4, \n",
    "#     n_head=8, \n",
    "#     d_inner=512, \n",
    "#     activation='gelu'\n",
    "# )\n",
    "config = {\n",
    "    'lr' : 1e-4,\n",
    "    'transformer': GPT2Config(\n",
    "        vocab_size=len(const.all_tokens),\n",
    "        n_positions=1024,\n",
    "        n_ctx=1024,\n",
    "        n_embd=256,\n",
    "        n_layer=4,\n",
    "        n_head=8,\n",
    "        n_inner=512\n",
    "    )\n",
    "}\n",
    "config"
   ]
  },
  {
   "cell_type": "code",
   "execution_count": 7,
   "id": "63ce98ba",
   "metadata": {},
   "outputs": [
    {
     "data": {
      "text/plain": [
       "2460928"
      ]
     },
     "execution_count": 7,
     "metadata": {},
     "output_type": "execute_result"
    }
   ],
   "source": [
    "from src.models.remi import RemiLinearTransformer, RemiHFTransformer\n",
    "\n",
    "model = RemiHFTransformer(config)\n",
    "# model = RemiLinearTransformer.load_from_checkpoint(f'weights/{name}/last.ckpt', config=config, is_training=True)\n",
    "model.count_parameters()"
   ]
  },
  {
   "cell_type": "code",
   "execution_count": 8,
   "id": "74098908",
   "metadata": {},
   "outputs": [],
   "source": [
    "# h, logits, state, loss = model(x=b['X'], x_len=b['X_len'], y=b['labels'])"
   ]
  },
  {
   "cell_type": "code",
   "execution_count": 9,
   "id": "cb87f59a",
   "metadata": {},
   "outputs": [
    {
     "name": "stderr",
     "output_type": "stream",
     "text": [
      "/home/soroosh/projects/general_env/lib/python3.8/site-packages/pytorch_lightning/callbacks/model_checkpoint.py:396: LightningDeprecationWarning: Argument `period` in `ModelCheckpoint` is deprecated in v1.3 and will be removed in v1.5. Please use `every_n_val_epochs` instead.\n",
      "  rank_zero_deprecation(\n",
      "GPU available: True, used: True\n",
      "TPU available: False, using: 0 TPU cores\n"
     ]
    }
   ],
   "source": [
    "logger = TensorBoardLogger(save_dir='logs/', name=name)\n",
    "lr_logger = LearningRateMonitor(logging_interval='step')\n",
    "checkpoint = ModelCheckpoint(\n",
    "    dirpath=f'weights/{name}/', \n",
    "    filename='{epoch}-{val_loss:.2f}', \n",
    "    monitor='train_loss',\n",
    "    save_top_k=5, \n",
    "    period=1\n",
    ")\n",
    "\n",
    "trainer = Trainer(\n",
    "    benchmark=True, \n",
    "    gpus=1, \n",
    "    accumulate_grad_batches=1,\n",
    "    logger=logger, \n",
    "    max_epochs=10,\n",
    "    callbacks=[checkpoint, lr_logger]\n",
    ")"
   ]
  },
  {
   "cell_type": "code",
   "execution_count": null,
   "id": "ae643bb8",
   "metadata": {},
   "outputs": [
    {
     "name": "stderr",
     "output_type": "stream",
     "text": [
      "LOCAL_RANK: 0 - CUDA_VISIBLE_DEVICES: [0]\n",
      "\n",
      "  | Name        | Type             | Params\n",
      "-------------------------------------------------\n",
      "0 | loss_func   | CrossEntropyLoss | 0     \n",
      "1 | transformer | GPT2LMHeadModel  | 2.5 M \n",
      "-------------------------------------------------\n",
      "2.5 M     Trainable params\n",
      "0         Non-trainable params\n",
      "2.5 M     Total params\n",
      "9.844     Total estimated model params size (MB)\n"
     ]
    },
    {
     "data": {
      "application/vnd.jupyter.widget-view+json": {
       "model_id": "",
       "version_major": 2,
       "version_minor": 0
      },
      "text/plain": [
       "Validation sanity check: 0it [00:00, ?it/s]"
      ]
     },
     "metadata": {},
     "output_type": "display_data"
    },
    {
     "name": "stderr",
     "output_type": "stream",
     "text": [
      "Global seed set to 42\n"
     ]
    },
    {
     "data": {
      "application/vnd.jupyter.widget-view+json": {
       "model_id": "1f4e3d7f8beb4c85b787ebebdb2ed514",
       "version_major": 2,
       "version_minor": 0
      },
      "text/plain": [
       "Training: 0it [00:00, ?it/s]"
      ]
     },
     "metadata": {},
     "output_type": "display_data"
    }
   ],
   "source": [
    "trainer.fit(model, tl, vl)"
   ]
  },
  {
   "cell_type": "code",
   "execution_count": null,
   "id": "75f44afd",
   "metadata": {},
   "outputs": [],
   "source": [
    "trainer.save_checkpoint(f'weights/{name}/last.ckpt')"
   ]
  },
  {
   "cell_type": "markdown",
   "id": "0f2a68fe",
   "metadata": {},
   "source": [
    "## generate"
   ]
  },
  {
   "cell_type": "code",
   "execution_count": null,
   "id": "582b811b",
   "metadata": {},
   "outputs": [],
   "source": [
    "from src.models.remi import RemiLinearTransformer\n",
    "\n",
    "gen_model = RemiLinearTransformer.load_from_checkpoint(f'weights/{name}/last.ckpt', config=config)"
   ]
  },
  {
   "cell_type": "code",
   "execution_count": null,
   "id": "ae7a5009",
   "metadata": {},
   "outputs": [],
   "source": [
    "# gen_conf = {\n",
    "#     'p_ttype' : 1.,\n",
    "#     't_ttype' : 1.,\n",
    "#     'p_barbeat' : .9,\n",
    "#     't_barbeat' : .7,\n",
    "#     'p_tempo' : 1.,\n",
    "#     't_tempo' : .7,\n",
    "#     'p_chord' : 1.,\n",
    "#     't_chord' : .9,\n",
    "#     'p_pitch' : .8,\n",
    "#     't_pitch' : .7,\n",
    "#     'p_duration' : .8,\n",
    "#     't_duration' : .7,\n",
    "#     'p_velocity' : 1.,\n",
    "#     't_velocity' : 1.,\n",
    "# }"
   ]
  },
  {
   "cell_type": "code",
   "execution_count": null,
   "id": "b8ce4aea",
   "metadata": {},
   "outputs": [],
   "source": [
    "path = data_config['data_dir']\n",
    "seq = MusicRepr.from_file(path + os.listdir(path)[0], const=const)\n",
    "prompt = MusicRepr.concatenate(seq.get_bars()[:4])\n",
    "# len(prompt)"
   ]
  },
  {
   "cell_type": "code",
   "execution_count": null,
   "id": "6106f463",
   "metadata": {},
   "outputs": [],
   "source": [
    "gen_remi = gen_model.generate(prompt=None, max_len=1000, cuda=True, top_p=0.8, temperature=0.7)\n",
    "gen_remi.shape"
   ]
  },
  {
   "cell_type": "code",
   "execution_count": null,
   "id": "72c9d954",
   "metadata": {},
   "outputs": [],
   "source": [
    "tokens = [const.all_tokens[idx] for idx in gen_remi]\n",
    "print(tokens[:10])\n",
    "gen_seq = MusicRepr.from_string(' '.join(tokens), const=const)\n",
    "len(gen_seq)"
   ]
  },
  {
   "cell_type": "code",
   "execution_count": null,
   "id": "8439d744",
   "metadata": {},
   "outputs": [],
   "source": [
    "# gen_cp = np.concatenate(\n",
    "#     [\n",
    "#         gen_cp[:,:4], \n",
    "#         np.ones(shape=(gen_cp.shape[0],1))*const.instruments.index('piano'), \n",
    "#         gen_cp[:, 4:]\n",
    "#     ], \n",
    "#     axis=1\n",
    "# )\n",
    "# gen_seq = MusicRepr.from_cp(gen_cp.astype(int), const=const)"
   ]
  },
  {
   "cell_type": "code",
   "execution_count": null,
   "id": "ea4a9700",
   "metadata": {},
   "outputs": [],
   "source": [
    "gen_seq.to_midi('test.mid')"
   ]
  },
  {
   "cell_type": "code",
   "execution_count": null,
   "id": "eb771b4b",
   "metadata": {},
   "outputs": [],
   "source": []
  }
 ],
 "metadata": {
  "kernelspec": {
   "display_name": "Python 3",
   "language": "python",
   "name": "python3"
  },
  "language_info": {
   "codemirror_mode": {
    "name": "ipython",
    "version": 3
   },
   "file_extension": ".py",
   "mimetype": "text/x-python",
   "name": "python",
   "nbconvert_exporter": "python",
   "pygments_lexer": "ipython3",
   "version": "3.8.10"
  }
 },
 "nbformat": 4,
 "nbformat_minor": 5
}
